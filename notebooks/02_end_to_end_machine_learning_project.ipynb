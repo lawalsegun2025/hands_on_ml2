{
 "cells": [
  {
   "cell_type": "markdown",
   "id": "e6ef2793",
   "metadata": {},
   "source": [
    "# Chapter 2 - End-to-end Machine Learning project\n",
    "\n",
    "**Here are the main steps you will go through**\n",
    "\n",
    "## 1. Look at the big picture\n",
    "\n",
    "### Frame the Problem\n",
    "**What exactly is the business objective?**\n",
    "- Building a model is probably not the end goal.\n",
    "\n",
    "**How does the company expect to use and benefit from this model?**\n",
    "- This is important because it will determine how you frame the problem, - what algorithms you will select, \n",
    "- what performance measure you will use to evaluate your model, and \n",
    "- how much effort you should spend tweaking it.\n",
    "\n",
    "**What does the current solution looks like (if any)?**\n",
    "- It will often give you a reference performance, as well as insights on how to solve the problem.\n",
    "\n",
    "**Design your system and frame the problem**\n",
    "- is it supervised, unsupervised or Reinforcement Learning?\n",
    "- Is it a classification task, a regressing task, or something else?\n",
    "- Should you use batch learning or online learning techniques?\n",
    "\n",
    "### Select a Performance Measure\n",
    "### Check the Assumptions\n",
    "\n",
    "\n",
    "\n",
    "\n",
    "\n",
    "\n",
    "## 2. Get the data.\n",
    "\n",
    "\n",
    "\n",
    "\n",
    "3. Discover and visualize the data to gain insights.\n",
    "4. Prepare the data for Machine Learning algorithms.\n",
    "5. Select a model and train it.\n",
    "6. Fine-tune your model.\n",
    "7. Present your solution.\n",
    "8. Launch, monitor and maintain your system."
   ]
  },
  {
   "cell_type": "code",
   "execution_count": null,
   "id": "0adebd8b",
   "metadata": {},
   "outputs": [],
   "source": []
  }
 ],
 "metadata": {
  "kernelspec": {
   "display_name": "Python 3 (ipykernel)",
   "language": "python",
   "name": "python3"
  },
  "language_info": {
   "codemirror_mode": {
    "name": "ipython",
    "version": 3
   },
   "file_extension": ".py",
   "mimetype": "text/x-python",
   "name": "python",
   "nbconvert_exporter": "python",
   "pygments_lexer": "ipython3",
   "version": "3.10.8"
  }
 },
 "nbformat": 4,
 "nbformat_minor": 5
}
