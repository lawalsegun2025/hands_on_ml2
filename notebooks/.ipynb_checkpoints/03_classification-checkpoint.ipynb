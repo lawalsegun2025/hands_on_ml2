{
 "cells": [
  {
   "cell_type": "markdown",
   "id": "a21d4e6d",
   "metadata": {},
   "source": [
    "# Chapter 3 - Classification"
   ]
  },
  {
   "cell_type": "code",
   "execution_count": 1,
   "id": "4aeb9d7c",
   "metadata": {},
   "outputs": [],
   "source": [
    "# Common imports\n",
    "import numpy as np\n",
    "\n",
    "\n",
    "# to make this notebook's output stable across runs\n",
    "np.random.seed(42)\n",
    "\n",
    "# To plot pretty figures\n",
    "%matplotlib inline\n",
    "import matplotlib as mpl\n",
    "import matplotlib.pyplot as plt\n",
    "mpl.rc('axes', labelsize=14)\n",
    "mpl.rc('xtick', labelsize=12)\n",
    "mpl.rc('ytick', labelsize=12)"
   ]
  },
  {
   "cell_type": "code",
   "execution_count": 2,
   "id": "6fc3a404",
   "metadata": {},
   "outputs": [],
   "source": [
    "# from sklearn.datasets import fetch_openml\n",
    "# mnist = fetch_openml('mnist_784', version=1, as_frame=False, parser='auto')"
   ]
  },
  {
   "cell_type": "code",
   "execution_count": 3,
   "id": "6f77579e",
   "metadata": {},
   "outputs": [],
   "source": [
    "# Save mnist to datasets folder\n",
    "import pickle\n",
    "\n",
    "# with open(\"../datasets/mnist/mnist_784/mnist_784\", 'wb') as file_pi:\n",
    "#     pickle.dump(mnist, file_pi)\n",
    "\n",
    "# Load mnist dataset\n",
    "with open(\"../../MNIST/mnist_784/mnist_784\", \"rb\") as file_pi:\n",
    "    mnist = pickle.load(file_pi)"
   ]
  },
  {
   "cell_type": "code",
   "execution_count": 4,
   "id": "80686342",
   "metadata": {},
   "outputs": [
    {
     "data": {
      "text/plain": [
       "dict_keys(['data', 'target', 'frame', 'categories', 'feature_names', 'target_names', 'DESCR', 'details', 'url'])"
      ]
     },
     "execution_count": 4,
     "metadata": {},
     "output_type": "execute_result"
    }
   ],
   "source": [
    "mnist.keys()"
   ]
  },
  {
   "cell_type": "code",
   "execution_count": 5,
   "id": "b7f38424",
   "metadata": {},
   "outputs": [
    {
     "data": {
      "text/plain": [
       "(70000, 784)"
      ]
     },
     "execution_count": 5,
     "metadata": {},
     "output_type": "execute_result"
    }
   ],
   "source": [
    "X, y = mnist[\"data\"], mnist[\"target\"]\n",
    "X.shape"
   ]
  },
  {
   "cell_type": "code",
   "execution_count": null,
   "id": "b25ba9b2",
   "metadata": {},
   "outputs": [],
   "source": []
  }
 ],
 "metadata": {
  "kernelspec": {
   "display_name": "Python 3 (ipykernel)",
   "language": "python",
   "name": "python3"
  },
  "language_info": {
   "codemirror_mode": {
    "name": "ipython",
    "version": 3
   },
   "file_extension": ".py",
   "mimetype": "text/x-python",
   "name": "python",
   "nbconvert_exporter": "python",
   "pygments_lexer": "ipython3",
   "version": "3.10.8"
  }
 },
 "nbformat": 4,
 "nbformat_minor": 5
}
